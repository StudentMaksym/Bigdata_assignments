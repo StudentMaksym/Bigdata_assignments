{
 "cells": [
  {
   "cell_type": "code",
   "execution_count": 30,
   "metadata": {},
   "outputs": [],
   "source": [
    "import pandas as pd\n",
    "import numpy as np\n",
    "import matplotlib.pyplot as plt\n",
    "import pandas as pd\n",
    "from sklearn.model_selection import train_test_split\n",
    "from sklearn.preprocessing import OrdinalEncoder, LabelEncoder\n",
    "from sklearn.tree import DecisionTreeClassifier, plot_tree\n",
    "from sklearn.metrics import classification_report, accuracy_score"
   ]
  },
  {
   "cell_type": "code",
   "execution_count": 2,
   "metadata": {},
   "outputs": [
    {
     "name": "stderr",
     "output_type": "stream",
     "text": [
      "C:\\Users\\mall0\\AppData\\Local\\Temp\\ipykernel_13480\\783661385.py:1: DtypeWarning: Columns (0,7,8,9,10,12,14,15,16,20) have mixed types. Specify dtype option on import or set low_memory=False.\n",
      "  df = pd.read_csv('twitter_data.csv')\n"
     ]
    }
   ],
   "source": [
    "df = pd.read_csv('twitter_data.csv')"
   ]
  },
  {
   "cell_type": "code",
   "execution_count": 3,
   "metadata": {},
   "outputs": [
    {
     "data": {
      "text/html": [
       "<div>\n",
       "<style scoped>\n",
       "    .dataframe tbody tr th:only-of-type {\n",
       "        vertical-align: middle;\n",
       "    }\n",
       "\n",
       "    .dataframe tbody tr th {\n",
       "        vertical-align: top;\n",
       "    }\n",
       "\n",
       "    .dataframe thead th {\n",
       "        text-align: right;\n",
       "    }\n",
       "</style>\n",
       "<table border=\"1\" class=\"dataframe\">\n",
       "  <thead>\n",
       "    <tr style=\"text-align: right;\">\n",
       "      <th></th>\n",
       "      <th>external_author_id</th>\n",
       "      <th>author</th>\n",
       "      <th>content</th>\n",
       "      <th>region</th>\n",
       "      <th>language</th>\n",
       "      <th>publish_date</th>\n",
       "      <th>harvested_date</th>\n",
       "      <th>following</th>\n",
       "      <th>followers</th>\n",
       "      <th>updates</th>\n",
       "      <th>...</th>\n",
       "      <th>account_type</th>\n",
       "      <th>retweet</th>\n",
       "      <th>account_category</th>\n",
       "      <th>new_june_2018</th>\n",
       "      <th>alt_external_id</th>\n",
       "      <th>tweet_id</th>\n",
       "      <th>article_url</th>\n",
       "      <th>tco1_step1</th>\n",
       "      <th>tco2_step1</th>\n",
       "      <th>tco3_step1</th>\n",
       "    </tr>\n",
       "  </thead>\n",
       "  <tbody>\n",
       "    <tr>\n",
       "      <th>0</th>\n",
       "      <td>906000000000000000</td>\n",
       "      <td>10_GOP</td>\n",
       "      <td>\"We have a sitting Democrat US Senator on tria...</td>\n",
       "      <td>Unknown</td>\n",
       "      <td>English</td>\n",
       "      <td>10/1/2017 19:58</td>\n",
       "      <td>10/1/2017 19:59</td>\n",
       "      <td>1052</td>\n",
       "      <td>9636</td>\n",
       "      <td>253</td>\n",
       "      <td>...</td>\n",
       "      <td>Right</td>\n",
       "      <td>0</td>\n",
       "      <td>RightTroll</td>\n",
       "      <td>0</td>\n",
       "      <td>905874659358453760</td>\n",
       "      <td>914580356430536707</td>\n",
       "      <td>http://twitter.com/905874659358453760/statuses...</td>\n",
       "      <td>https://twitter.com/10_gop/status/914580356430...</td>\n",
       "      <td>NaN</td>\n",
       "      <td>NaN</td>\n",
       "    </tr>\n",
       "    <tr>\n",
       "      <th>1</th>\n",
       "      <td>906000000000000000</td>\n",
       "      <td>10_GOP</td>\n",
       "      <td>Marshawn Lynch arrives to game in anti-Trump s...</td>\n",
       "      <td>Unknown</td>\n",
       "      <td>English</td>\n",
       "      <td>10/1/2017 22:43</td>\n",
       "      <td>10/1/2017 22:43</td>\n",
       "      <td>1054</td>\n",
       "      <td>9637</td>\n",
       "      <td>254</td>\n",
       "      <td>...</td>\n",
       "      <td>Right</td>\n",
       "      <td>0</td>\n",
       "      <td>RightTroll</td>\n",
       "      <td>0</td>\n",
       "      <td>905874659358453760</td>\n",
       "      <td>914621840496189440</td>\n",
       "      <td>http://twitter.com/905874659358453760/statuses...</td>\n",
       "      <td>https://twitter.com/damienwoody/status/9145685...</td>\n",
       "      <td>NaN</td>\n",
       "      <td>NaN</td>\n",
       "    </tr>\n",
       "    <tr>\n",
       "      <th>2</th>\n",
       "      <td>906000000000000000</td>\n",
       "      <td>10_GOP</td>\n",
       "      <td>Daughter of fallen Navy Sailor delivers powerf...</td>\n",
       "      <td>Unknown</td>\n",
       "      <td>English</td>\n",
       "      <td>10/1/2017 22:50</td>\n",
       "      <td>10/1/2017 22:51</td>\n",
       "      <td>1054</td>\n",
       "      <td>9637</td>\n",
       "      <td>255</td>\n",
       "      <td>...</td>\n",
       "      <td>Right</td>\n",
       "      <td>1</td>\n",
       "      <td>RightTroll</td>\n",
       "      <td>0</td>\n",
       "      <td>905874659358453760</td>\n",
       "      <td>914623490375979008</td>\n",
       "      <td>http://twitter.com/905874659358453760/statuses...</td>\n",
       "      <td>https://twitter.com/10_gop/status/913231923715...</td>\n",
       "      <td>NaN</td>\n",
       "      <td>NaN</td>\n",
       "    </tr>\n",
       "    <tr>\n",
       "      <th>3</th>\n",
       "      <td>906000000000000000</td>\n",
       "      <td>10_GOP</td>\n",
       "      <td>JUST IN: President Trump dedicates Presidents ...</td>\n",
       "      <td>Unknown</td>\n",
       "      <td>English</td>\n",
       "      <td>10/1/2017 23:52</td>\n",
       "      <td>10/1/2017 23:52</td>\n",
       "      <td>1062</td>\n",
       "      <td>9642</td>\n",
       "      <td>256</td>\n",
       "      <td>...</td>\n",
       "      <td>Right</td>\n",
       "      <td>0</td>\n",
       "      <td>RightTroll</td>\n",
       "      <td>0</td>\n",
       "      <td>905874659358453760</td>\n",
       "      <td>914639143690555392</td>\n",
       "      <td>http://twitter.com/905874659358453760/statuses...</td>\n",
       "      <td>https://twitter.com/10_gop/status/914639143690...</td>\n",
       "      <td>NaN</td>\n",
       "      <td>NaN</td>\n",
       "    </tr>\n",
       "    <tr>\n",
       "      <th>4</th>\n",
       "      <td>906000000000000000</td>\n",
       "      <td>10_GOP</td>\n",
       "      <td>19,000 RESPECTING our National Anthem! #StandF...</td>\n",
       "      <td>Unknown</td>\n",
       "      <td>English</td>\n",
       "      <td>10/1/2017 2:13</td>\n",
       "      <td>10/1/2017 2:13</td>\n",
       "      <td>1050</td>\n",
       "      <td>9645</td>\n",
       "      <td>246</td>\n",
       "      <td>...</td>\n",
       "      <td>Right</td>\n",
       "      <td>1</td>\n",
       "      <td>RightTroll</td>\n",
       "      <td>0</td>\n",
       "      <td>905874659358453760</td>\n",
       "      <td>914312219952861184</td>\n",
       "      <td>http://twitter.com/905874659358453760/statuses...</td>\n",
       "      <td>https://twitter.com/realDonaldTrump/status/914...</td>\n",
       "      <td>NaN</td>\n",
       "      <td>NaN</td>\n",
       "    </tr>\n",
       "  </tbody>\n",
       "</table>\n",
       "<p>5 rows × 21 columns</p>\n",
       "</div>"
      ],
      "text/plain": [
       "   external_author_id  author  \\\n",
       "0  906000000000000000  10_GOP   \n",
       "1  906000000000000000  10_GOP   \n",
       "2  906000000000000000  10_GOP   \n",
       "3  906000000000000000  10_GOP   \n",
       "4  906000000000000000  10_GOP   \n",
       "\n",
       "                                             content   region language  \\\n",
       "0  \"We have a sitting Democrat US Senator on tria...  Unknown  English   \n",
       "1  Marshawn Lynch arrives to game in anti-Trump s...  Unknown  English   \n",
       "2  Daughter of fallen Navy Sailor delivers powerf...  Unknown  English   \n",
       "3  JUST IN: President Trump dedicates Presidents ...  Unknown  English   \n",
       "4  19,000 RESPECTING our National Anthem! #StandF...  Unknown  English   \n",
       "\n",
       "      publish_date   harvested_date following followers updates  ...  \\\n",
       "0  10/1/2017 19:58  10/1/2017 19:59      1052      9636     253  ...   \n",
       "1  10/1/2017 22:43  10/1/2017 22:43      1054      9637     254  ...   \n",
       "2  10/1/2017 22:50  10/1/2017 22:51      1054      9637     255  ...   \n",
       "3  10/1/2017 23:52  10/1/2017 23:52      1062      9642     256  ...   \n",
       "4   10/1/2017 2:13   10/1/2017 2:13      1050      9645     246  ...   \n",
       "\n",
       "  account_type retweet account_category new_june_2018     alt_external_id  \\\n",
       "0        Right       0       RightTroll             0  905874659358453760   \n",
       "1        Right       0       RightTroll             0  905874659358453760   \n",
       "2        Right       1       RightTroll             0  905874659358453760   \n",
       "3        Right       0       RightTroll             0  905874659358453760   \n",
       "4        Right       1       RightTroll             0  905874659358453760   \n",
       "\n",
       "             tweet_id                                        article_url  \\\n",
       "0  914580356430536707  http://twitter.com/905874659358453760/statuses...   \n",
       "1  914621840496189440  http://twitter.com/905874659358453760/statuses...   \n",
       "2  914623490375979008  http://twitter.com/905874659358453760/statuses...   \n",
       "3  914639143690555392  http://twitter.com/905874659358453760/statuses...   \n",
       "4  914312219952861184  http://twitter.com/905874659358453760/statuses...   \n",
       "\n",
       "                                          tco1_step1 tco2_step1 tco3_step1  \n",
       "0  https://twitter.com/10_gop/status/914580356430...        NaN        NaN  \n",
       "1  https://twitter.com/damienwoody/status/9145685...        NaN        NaN  \n",
       "2  https://twitter.com/10_gop/status/913231923715...        NaN        NaN  \n",
       "3  https://twitter.com/10_gop/status/914639143690...        NaN        NaN  \n",
       "4  https://twitter.com/realDonaldTrump/status/914...        NaN        NaN  \n",
       "\n",
       "[5 rows x 21 columns]"
      ]
     },
     "execution_count": 3,
     "metadata": {},
     "output_type": "execute_result"
    }
   ],
   "source": [
    "df.head()"
   ]
  },
  {
   "cell_type": "code",
   "execution_count": 4,
   "metadata": {},
   "outputs": [
    {
     "name": "stdout",
     "output_type": "stream",
     "text": [
      "<class 'pandas.core.frame.DataFrame'>\n",
      "RangeIndex: 2946220 entries, 0 to 2946219\n",
      "Data columns (total 21 columns):\n",
      " #   Column              Dtype \n",
      "---  ------              ----- \n",
      " 0   external_author_id  object\n",
      " 1   author              object\n",
      " 2   content             object\n",
      " 3   region              object\n",
      " 4   language            object\n",
      " 5   publish_date        object\n",
      " 6   harvested_date      object\n",
      " 7   following           object\n",
      " 8   followers           object\n",
      " 9   updates             object\n",
      " 10  post_type           object\n",
      " 11  account_type        object\n",
      " 12  retweet             object\n",
      " 13  account_category    object\n",
      " 14  new_june_2018       object\n",
      " 15  alt_external_id     object\n",
      " 16  tweet_id            object\n",
      " 17  article_url         object\n",
      " 18  tco1_step1          object\n",
      " 19  tco2_step1          object\n",
      " 20  tco3_step1          object\n",
      "dtypes: object(21)\n",
      "memory usage: 472.0+ MB\n"
     ]
    }
   ],
   "source": [
    "df.info()"
   ]
  },
  {
   "cell_type": "code",
   "execution_count": 5,
   "metadata": {},
   "outputs": [
    {
     "data": {
      "image/png": "[encoded data removed]",
      "text/plain": [
       "<Figure size 1800x1000 with 2 Axes>"
      ]
     },
     "metadata": {},
     "output_type": "display_data"
    }
   ],
   "source": [
    "features = ['account_type', 'account_category']\n",
    "\n",
    "plt.style.use('dark_background')\n",
    "\n",
    "fig, axes = plt.subplots(nrows=1, ncols=2, figsize=(18, 10))\n",
    "axes = axes.flatten()\n",
    "\n",
    "for i, feature in enumerate(features):\n",
    "    df[feature].value_counts().plot(kind='bar', ax=axes[i], color='red', alpha=0.4)\n",
    "    axes[i].set_title(f'Розподіл ознаки \"{feature}\"')\n",
    "    axes[i].set_xlabel(feature)\n",
    "    axes[i].set_ylabel('Кількість')\n",
    "    axes[i].tick_params(axis='x', rotation=45)\n",
    "\n",
    "plt.tight_layout()\n",
    "plt.show()"
   ]
  },
  {
   "cell_type": "code",
   "execution_count": 6,
   "metadata": {},
   "outputs": [
    {
     "data": {
      "text/plain": [
       "0         2017-10-01 19:58:00\n",
       "1         2017-10-01 22:43:00\n",
       "2         2017-10-01 22:50:00\n",
       "3         2017-10-01 23:52:00\n",
       "4         2017-10-01 02:13:00\n",
       "                  ...        \n",
       "2946215   2016-02-16 22:25:00\n",
       "2946216   2016-02-16 22:31:00\n",
       "2946217   2016-02-16 22:35:00\n",
       "2946218   2016-02-16 22:40:00\n",
       "2946219                   NaT\n",
       "Name: publish_date, Length: 2946220, dtype: datetime64[ns]"
      ]
     },
     "execution_count": 6,
     "metadata": {},
     "output_type": "execute_result"
    }
   ],
   "source": [
    "df['publish_date'] = pd.to_datetime(df['publish_date'], errors='coerce')\n",
    "df['publish_date']"
   ]
  },
  {
   "cell_type": "code",
   "execution_count": 7,
   "metadata": {},
   "outputs": [
    {
     "data": {
      "text/plain": [
       "0         2017-10-01 19:59:00\n",
       "1         2017-10-01 22:43:00\n",
       "2         2017-10-01 22:51:00\n",
       "3         2017-10-01 23:52:00\n",
       "4         2017-10-01 02:13:00\n",
       "                  ...        \n",
       "2946215   2016-02-16 22:25:00\n",
       "2946216   2016-02-16 22:31:00\n",
       "2946217   2016-02-16 22:35:00\n",
       "2946218   2016-02-16 22:40:00\n",
       "2946219                   NaT\n",
       "Name: harvested_date, Length: 2946220, dtype: datetime64[ns]"
      ]
     },
     "execution_count": 7,
     "metadata": {},
     "output_type": "execute_result"
    }
   ],
   "source": [
    "df['harvested_date'] = pd.to_datetime(df['harvested_date'], errors='coerce')\n",
    "df['harvested_date']"
   ]
  },
  {
   "cell_type": "code",
   "execution_count": 8,
   "metadata": {},
   "outputs": [],
   "source": [
    "for column in df.columns:\n",
    "    df[column] = df[column].replace(str(column), np.nan)"
   ]
  },
  {
   "cell_type": "code",
   "execution_count": 9,
   "metadata": {},
   "outputs": [
    {
     "data": {
      "text/plain": [
       "external_author_id         12\n",
       "author                     13\n",
       "content                    14\n",
       "region                   8831\n",
       "language                   13\n",
       "publish_date               13\n",
       "harvested_date             13\n",
       "following                  13\n",
       "followers                  13\n",
       "updates                    13\n",
       "post_type             1648638\n",
       "account_type               13\n",
       "retweet                    13\n",
       "account_category           13\n",
       "new_june_2018              13\n",
       "alt_external_id            13\n",
       "tweet_id                   13\n",
       "article_url                13\n",
       "tco1_step1             845984\n",
       "tco2_step1            2235103\n",
       "tco3_step1            2931220\n",
       "dtype: int64"
      ]
     },
     "execution_count": 9,
     "metadata": {},
     "output_type": "execute_result"
    }
   ],
   "source": [
    "df.isnull().sum()"
   ]
  },
  {
   "cell_type": "code",
   "execution_count": 10,
   "metadata": {},
   "outputs": [
    {
     "data": {
      "text/plain": [
       "array([0, 'RETWEET', 'QUOTE_TWEET'], dtype=object)"
      ]
     },
     "execution_count": 10,
     "metadata": {},
     "output_type": "execute_result"
    }
   ],
   "source": [
    "df['post_type'] = df['post_type'].replace(np.nan, 0)\n",
    "df['post_type'].unique()"
   ]
  },
  {
   "cell_type": "code",
   "execution_count": 11,
   "metadata": {},
   "outputs": [
    {
     "data": {
      "text/plain": [
       "retweet\n",
       "0    1406210\n",
       "1    1179561\n",
       "0     242415\n",
       "1     118021\n",
       "Name: count, dtype: int64"
      ]
     },
     "execution_count": 11,
     "metadata": {},
     "output_type": "execute_result"
    }
   ],
   "source": [
    "df['retweet'].value_counts()"
   ]
  },
  {
   "cell_type": "code",
   "execution_count": 12,
   "metadata": {},
   "outputs": [
    {
     "name": "stdout",
     "output_type": "stream",
     "text": [
      "0 <class 'int'>\n",
      "1 <class 'int'>\n",
      "1 <class 'str'>\n",
      "0 <class 'str'>\n",
      "nan <class 'float'>\n"
     ]
    }
   ],
   "source": [
    "for i in  df['retweet'].unique():\n",
    "    print(i, type(i))"
   ]
  },
  {
   "cell_type": "code",
   "execution_count": 13,
   "metadata": {},
   "outputs": [
    {
     "name": "stdout",
     "output_type": "stream",
     "text": [
      "unique values in the retweet column: [ 0.  1. nan]\n",
      "null values in the retweet column: 13\n"
     ]
    },
    {
     "name": "stderr",
     "output_type": "stream",
     "text": [
      "C:\\Users\\mall0\\AppData\\Local\\Temp\\ipykernel_13480\\658772209.py:2: FutureWarning: Downcasting behavior in `replace` is deprecated and will be removed in a future version. To retain the old behavior, explicitly call `result.infer_objects(copy=False)`. To opt-in to the future behavior, set `pd.set_option('future.no_silent_downcasting', True)`\n",
      "  df['retweet'] = df['retweet'].replace('0', 0)\n"
     ]
    }
   ],
   "source": [
    "df['retweet'] = df['retweet'].replace('1', 1)\n",
    "df['retweet'] = df['retweet'].replace('0', 0)\n",
    "print('unique values in the retweet column:', df['retweet'].unique())\n",
    "print('null values in the retweet column:', df['retweet'].isnull().sum())"
   ]
  },
  {
   "cell_type": "code",
   "execution_count": 14,
   "metadata": {},
   "outputs": [
    {
     "name": "stdout",
     "output_type": "stream",
     "text": [
      "0 <class 'int'>\n",
      "1 <class 'int'>\n",
      "0 <class 'str'>\n",
      "1 <class 'str'>\n",
      "nan <class 'float'>\n"
     ]
    }
   ],
   "source": [
    "for i in  df['new_june_2018'].unique():\n",
    "    print(i, type(i))"
   ]
  },
  {
   "cell_type": "code",
   "execution_count": 15,
   "metadata": {},
   "outputs": [
    {
     "name": "stdout",
     "output_type": "stream",
     "text": [
      "unique values in the new_june_2018 column: [ 0.  1. nan]\n",
      "null values in the new_june_2018 column: 13\n"
     ]
    },
    {
     "name": "stderr",
     "output_type": "stream",
     "text": [
      "C:\\Users\\mall0\\AppData\\Local\\Temp\\ipykernel_13480\\230287228.py:2: FutureWarning: Downcasting behavior in `replace` is deprecated and will be removed in a future version. To retain the old behavior, explicitly call `result.infer_objects(copy=False)`. To opt-in to the future behavior, set `pd.set_option('future.no_silent_downcasting', True)`\n",
      "  df['new_june_2018'] = df['new_june_2018'].replace('1', 1)\n"
     ]
    }
   ],
   "source": [
    "df['new_june_2018'] = df['new_june_2018'].replace('0', 0)\n",
    "df['new_june_2018'] = df['new_june_2018'].replace('1', 1)\n",
    "print('unique values in the new_june_2018 column:', df['retweet'].unique())\n",
    "print('null values in the new_june_2018 column:', df['retweet'].isnull().sum())"
   ]
  },
  {
   "cell_type": "code",
   "execution_count": 16,
   "metadata": {},
   "outputs": [
    {
     "data": {
      "text/plain": [
       "region\n",
       "United States                2046709\n",
       "Unknown                       561994\n",
       "Azerbaijan                     96333\n",
       "United Arab Emirates           74675\n",
       "Russian Federation             37589\n",
       "Belarus                        27802\n",
       "Germany                        27178\n",
       "United Kingdom                 18048\n",
       "Italy                          13474\n",
       "Iraq                           11117\n",
       "Ukraine                         5765\n",
       "Malaysia                        4932\n",
       "Afghanistan                     4888\n",
       "Israel                          3604\n",
       "France                           942\n",
       "Canada                           608\n",
       "Iran, Islamic Republic of        541\n",
       "Spain                            515\n",
       "Egypt                            232\n",
       "Japan                            108\n",
       "Greece                            81\n",
       "Saudi Arabia                      55\n",
       "Sweden                            52\n",
       "Mexico                            41\n",
       "Samoa                             32\n",
       "India                             22\n",
       "Finland                           20\n",
       "Turkey                             9\n",
       "Latvia                             7\n",
       "Czech Republic                     7\n",
       "Hong Kong                          3\n",
       "Serbia                             2\n",
       "Switzerland                        1\n",
       "Denmark                            1\n",
       "Estonia                            1\n",
       "Austria                            1\n",
       "Name: count, dtype: int64"
      ]
     },
     "execution_count": 16,
     "metadata": {},
     "output_type": "execute_result"
    }
   ],
   "source": [
    "df['region'].value_counts()"
   ]
  },
  {
   "cell_type": "code",
   "execution_count": 17,
   "metadata": {},
   "outputs": [],
   "source": [
    "df['region'] = df['region'].replace(np.nan, 'Unknown')"
   ]
  },
  {
   "cell_type": "code",
   "execution_count": 18,
   "metadata": {},
   "outputs": [
    {
     "data": {
      "text/plain": [
       "external_author_id         12\n",
       "author                     13\n",
       "content                    14\n",
       "region                      0\n",
       "language                   13\n",
       "publish_date               13\n",
       "harvested_date             13\n",
       "following                  13\n",
       "followers                  13\n",
       "updates                    13\n",
       "post_type                   0\n",
       "account_type               13\n",
       "retweet                    13\n",
       "account_category           13\n",
       "new_june_2018              13\n",
       "alt_external_id            13\n",
       "tweet_id                   13\n",
       "article_url                13\n",
       "tco1_step1             845984\n",
       "tco2_step1            2235103\n",
       "tco3_step1            2931220\n",
       "dtype: int64"
      ]
     },
     "execution_count": 18,
     "metadata": {},
     "output_type": "execute_result"
    }
   ],
   "source": [
    "df.isnull().sum()"
   ]
  },
  {
   "cell_type": "code",
   "execution_count": 19,
   "metadata": {},
   "outputs": [],
   "source": [
    "df2 = df.drop(['tco1_step1', 'tco2_step1', 'tco3_step1'], axis=1)"
   ]
  },
  {
   "cell_type": "code",
   "execution_count": 20,
   "metadata": {},
   "outputs": [],
   "source": [
    "df2.dropna(how='any', inplace=True)"
   ]
  },
  {
   "cell_type": "code",
   "execution_count": 21,
   "metadata": {},
   "outputs": [
    {
     "data": {
      "text/plain": [
       "external_author_id    0\n",
       "author                0\n",
       "content               0\n",
       "region                0\n",
       "language              0\n",
       "publish_date          0\n",
       "harvested_date        0\n",
       "following             0\n",
       "followers             0\n",
       "updates               0\n",
       "post_type             0\n",
       "account_type          0\n",
       "retweet               0\n",
       "account_category      0\n",
       "new_june_2018         0\n",
       "alt_external_id       0\n",
       "tweet_id              0\n",
       "article_url           0\n",
       "dtype: int64"
      ]
     },
     "execution_count": 21,
     "metadata": {},
     "output_type": "execute_result"
    }
   ],
   "source": [
    "df2.isnull().sum()"
   ]
  },
  {
   "cell_type": "code",
   "execution_count": 22,
   "metadata": {},
   "outputs": [],
   "source": [
    "y = df2['account_category']\n",
    "df2 = df2.drop(['external_author_id', 'alt_external_id', 'tweet_id', 'account_category', 'account_type', 'article_url'], axis=1)"
   ]
  },
  {
   "cell_type": "code",
   "execution_count": 23,
   "metadata": {},
   "outputs": [
    {
     "name": "stdout",
     "output_type": "stream",
     "text": [
      "<class 'pandas.core.frame.DataFrame'>\n",
      "Index: 2946206 entries, 0 to 2946218\n",
      "Data columns (total 12 columns):\n",
      " #   Column          Dtype         \n",
      "---  ------          -----         \n",
      " 0   author          float64       \n",
      " 1   content         string        \n",
      " 2   region          float64       \n",
      " 3   language        float64       \n",
      " 4   publish_date    datetime64[ns]\n",
      " 5   harvested_date  datetime64[ns]\n",
      " 6   following       int64         \n",
      " 7   followers       int64         \n",
      " 8   updates         int64         \n",
      " 9   post_type       float64       \n",
      " 10  retweet         float64       \n",
      " 11  new_june_2018   float64       \n",
      "dtypes: datetime64[ns](2), float64(6), int64(3), string(1)\n",
      "memory usage: 292.2 MB\n"
     ]
    }
   ],
   "source": [
    "num_columns = ['following', 'followers', 'updates']\n",
    "cat_columns = ['author', 'region', 'language', 'retweet', 'new_june_2018', 'post_type', 'retweet']\n",
    "str_columns = ['content']\n",
    "date_columns = ['publish_date', 'harvested_date']\n",
    "\n",
    "for column in num_columns:\n",
    "    df2[column] = df2[column].astype('int64')\n",
    "    \n",
    "encoder = OrdinalEncoder()    \n",
    "for column in cat_columns:\n",
    "    df2[column] = encoder.fit_transform(df2[column].values.reshape(-1, 1).astype(str))\n",
    "    \n",
    "for column in str_columns:\n",
    "    df2[column] = df2[column].astype('string')\n",
    "\n",
    "df2.info()"
   ]
  },
  {
   "cell_type": "code",
   "execution_count": 24,
   "metadata": {},
   "outputs": [
    {
     "data": {
      "text/html": [
       "<div>\n",
       "<style scoped>\n",
       "    .dataframe tbody tr th:only-of-type {\n",
       "        vertical-align: middle;\n",
       "    }\n",
       "\n",
       "    .dataframe tbody tr th {\n",
       "        vertical-align: top;\n",
       "    }\n",
       "\n",
       "    .dataframe thead th {\n",
       "        text-align: right;\n",
       "    }\n",
       "</style>\n",
       "<table border=\"1\" class=\"dataframe\">\n",
       "  <thead>\n",
       "    <tr style=\"text-align: right;\">\n",
       "      <th></th>\n",
       "      <th>author</th>\n",
       "      <th>content</th>\n",
       "      <th>region</th>\n",
       "      <th>language</th>\n",
       "      <th>publish_date</th>\n",
       "      <th>harvested_date</th>\n",
       "      <th>following</th>\n",
       "      <th>followers</th>\n",
       "      <th>updates</th>\n",
       "      <th>post_type</th>\n",
       "      <th>retweet</th>\n",
       "      <th>new_june_2018</th>\n",
       "    </tr>\n",
       "  </thead>\n",
       "  <tbody>\n",
       "    <tr>\n",
       "      <th>0</th>\n",
       "      <td>0.0</td>\n",
       "      <td>\"We have a sitting Democrat US Senator on tria...</td>\n",
       "      <td>35.0</td>\n",
       "      <td>9.0</td>\n",
       "      <td>2017-10-01 19:58:00</td>\n",
       "      <td>2017-10-01 19:59:00</td>\n",
       "      <td>1052</td>\n",
       "      <td>9636</td>\n",
       "      <td>253</td>\n",
       "      <td>0.0</td>\n",
       "      <td>0.0</td>\n",
       "      <td>0.0</td>\n",
       "    </tr>\n",
       "    <tr>\n",
       "      <th>1</th>\n",
       "      <td>0.0</td>\n",
       "      <td>Marshawn Lynch arrives to game in anti-Trump s...</td>\n",
       "      <td>35.0</td>\n",
       "      <td>9.0</td>\n",
       "      <td>2017-10-01 22:43:00</td>\n",
       "      <td>2017-10-01 22:43:00</td>\n",
       "      <td>1054</td>\n",
       "      <td>9637</td>\n",
       "      <td>254</td>\n",
       "      <td>0.0</td>\n",
       "      <td>0.0</td>\n",
       "      <td>0.0</td>\n",
       "    </tr>\n",
       "    <tr>\n",
       "      <th>2</th>\n",
       "      <td>0.0</td>\n",
       "      <td>Daughter of fallen Navy Sailor delivers powerf...</td>\n",
       "      <td>35.0</td>\n",
       "      <td>9.0</td>\n",
       "      <td>2017-10-01 22:50:00</td>\n",
       "      <td>2017-10-01 22:51:00</td>\n",
       "      <td>1054</td>\n",
       "      <td>9637</td>\n",
       "      <td>255</td>\n",
       "      <td>2.0</td>\n",
       "      <td>1.0</td>\n",
       "      <td>0.0</td>\n",
       "    </tr>\n",
       "    <tr>\n",
       "      <th>3</th>\n",
       "      <td>0.0</td>\n",
       "      <td>JUST IN: President Trump dedicates Presidents ...</td>\n",
       "      <td>35.0</td>\n",
       "      <td>9.0</td>\n",
       "      <td>2017-10-01 23:52:00</td>\n",
       "      <td>2017-10-01 23:52:00</td>\n",
       "      <td>1062</td>\n",
       "      <td>9642</td>\n",
       "      <td>256</td>\n",
       "      <td>0.0</td>\n",
       "      <td>0.0</td>\n",
       "      <td>0.0</td>\n",
       "    </tr>\n",
       "    <tr>\n",
       "      <th>4</th>\n",
       "      <td>0.0</td>\n",
       "      <td>19,000 RESPECTING our National Anthem! #StandF...</td>\n",
       "      <td>35.0</td>\n",
       "      <td>9.0</td>\n",
       "      <td>2017-10-01 02:13:00</td>\n",
       "      <td>2017-10-01 02:13:00</td>\n",
       "      <td>1050</td>\n",
       "      <td>9645</td>\n",
       "      <td>246</td>\n",
       "      <td>2.0</td>\n",
       "      <td>1.0</td>\n",
       "      <td>0.0</td>\n",
       "    </tr>\n",
       "  </tbody>\n",
       "</table>\n",
       "</div>"
      ],
      "text/plain": [
       "   author                                            content  region  \\\n",
       "0     0.0  \"We have a sitting Democrat US Senator on tria...    35.0   \n",
       "1     0.0  Marshawn Lynch arrives to game in anti-Trump s...    35.0   \n",
       "2     0.0  Daughter of fallen Navy Sailor delivers powerf...    35.0   \n",
       "3     0.0  JUST IN: President Trump dedicates Presidents ...    35.0   \n",
       "4     0.0  19,000 RESPECTING our National Anthem! #StandF...    35.0   \n",
       "\n",
       "   language        publish_date      harvested_date  following  followers  \\\n",
       "0       9.0 2017-10-01 19:58:00 2017-10-01 19:59:00       1052       9636   \n",
       "1       9.0 2017-10-01 22:43:00 2017-10-01 22:43:00       1054       9637   \n",
       "2       9.0 2017-10-01 22:50:00 2017-10-01 22:51:00       1054       9637   \n",
       "3       9.0 2017-10-01 23:52:00 2017-10-01 23:52:00       1062       9642   \n",
       "4       9.0 2017-10-01 02:13:00 2017-10-01 02:13:00       1050       9645   \n",
       "\n",
       "   updates  post_type  retweet  new_june_2018  \n",
       "0      253        0.0      0.0            0.0  \n",
       "1      254        0.0      0.0            0.0  \n",
       "2      255        2.0      1.0            0.0  \n",
       "3      256        0.0      0.0            0.0  \n",
       "4      246        2.0      1.0            0.0  "
      ]
     },
     "execution_count": 24,
     "metadata": {},
     "output_type": "execute_result"
    }
   ],
   "source": [
    "df2.head()"
   ]
  },
  {
   "cell_type": "code",
   "execution_count": 25,
   "metadata": {},
   "outputs": [
    {
     "data": {
      "text/plain": [
       "(2946206, 12)"
      ]
     },
     "execution_count": 25,
     "metadata": {},
     "output_type": "execute_result"
    }
   ],
   "source": [
    "df2.shape"
   ]
  },
  {
   "cell_type": "code",
   "execution_count": 26,
   "metadata": {},
   "outputs": [
    {
     "name": "stdout",
     "output_type": "stream",
     "text": [
      "Accuracy: 0.9983130850743668\n"
     ]
    }
   ],
   "source": [
    "le = LabelEncoder()\n",
    "y2 = le.fit_transform(y)\n",
    "x = df2.drop(['content', 'publish_date', 'harvested_date'], axis=1)\n",
    "\n",
    "X_train, X_test, y_train, y_test = train_test_split(x, y2, test_size=0.3, random_state=42)\n",
    "\n",
    "model = DecisionTreeClassifier()\n",
    "model.fit(X_train, y_train)\n",
    "\n",
    "y_pred = model.predict(X_test)\n",
    "\n",
    "print(\"Accuracy:\", accuracy_score(y_test, y_pred))"
   ]
  },
  {
   "cell_type": "code",
   "execution_count": 27,
   "metadata": {},
   "outputs": [
    {
     "data": {
      "text/plain": [
       "array(['RightTroll', 'NonEnglish', 'Fearmonger', 'LeftTroll', 'Unknown',\n",
       "       'HashtagGamer', 'NewsFeed', 'Commercial'], dtype=object)"
      ]
     },
     "execution_count": 27,
     "metadata": {},
     "output_type": "execute_result"
    }
   ],
   "source": [
    "pd.Series(le.inverse_transform(y2)).unique()"
   ]
  },
  {
   "cell_type": "code",
   "execution_count": 28,
   "metadata": {},
   "outputs": [],
   "source": [
    "df_prepared = df2\n",
    "df_prepared['account_category'] = y\n",
    "df_prepared.to_csv('twitter_data_prepared.csv', index=False)"
   ]
  }
 ],
 "metadata": {
  "kernelspec": {
   "display_name": "DL",
   "language": "python",
   "name": "python3"
  },
  "language_info": {
   "codemirror_mode": {
    "name": "ipython",
    "version": 3
   },
   "file_extension": ".py",
   "mimetype": "text/x-python",
   "name": "python",
   "nbconvert_exporter": "python",
   "pygments_lexer": "ipython3",
   "version": "3.12.5"
  }
 },
 "nbformat": 4,
 "nbformat_minor": 2
}
